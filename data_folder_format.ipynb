{
 "cells": [
  {
   "cell_type": "code",
   "execution_count": 1,
   "metadata": {},
   "outputs": [],
   "source": [
    "import os\n",
    "import sys\n",
    "import PIL\n",
    "import numpy as np\n",
    "from tensorflow.keras.preprocessing.image import load_img"
   ]
  },
  {
   "cell_type": "code",
   "execution_count": 2,
   "metadata": {},
   "outputs": [],
   "source": [
    "def list_files(dir):            \n",
    "    r = []                                        \n",
    "    subdirs = [x[0] for x in os.walk(dir)]                             \n",
    "    for subdir in subdirs:                                           \n",
    "        files = os.walk(subdir).__next__()[2]          \n",
    "        if (len(files) > 0):    \n",
    "            for file in files:                                       \n",
    "                r.append(os.path.join(subdir, file))         \n",
    "    return r \n",
    "\n",
    "\n",
    "def populate_directory(input_dir, annotation_dir, image_dir):\n",
    "    \n",
    "    if not os.path.exists(annotation_dir):\n",
    "        os.makedirs(annotation_dir)\n",
    "    if not os.path.exists(image_dir):\n",
    "        os.makedirs(image_dir)\n",
    "        \n",
    "    ids_temp = list_files(input_path)\n",
    "    \n",
    "    mask_list = []\n",
    "    for i in ids_temp:\n",
    "        if i.endswith(\"labelIds.png\"):\n",
    "            mask_list.append(i)\n",
    "            \n",
    "    image_list = []\n",
    "    for i in ids_temp:\n",
    "        if i.endswith(\"leftImg8bit.png\"):\n",
    "            image_list.append(i)\n",
    "            \n",
    "    for n, mask_id in enumerate(mask_list):\n",
    "        img = load_img(mask_id, color_mode = \"grayscale\")\n",
    "        print(\"\\r saving {} / {}\".format(n+1, len(mask_list)), end='')\n",
    "        id_temp = mask_id.split(\"/\")\n",
    "        id_temp = id_temp[-1]\n",
    "        img.save(annotation_dir + id_temp)\n",
    "        \n",
    "    for n, img_id in enumerate(image_list):\n",
    "        img = load_img(img_id, color_mode = \"rgb\")\n",
    "        print(\"\\r saving {} / {}\".format(n+1, len(image_list)), end='')\n",
    "        id_temp = img_id.split(\"/\")\n",
    "        id_temp = id_temp[-1]\n",
    "        img.save(image_dir + id_temp)\n",
    "        \n",
    "    print(\"\\n done!\") "
   ]
  },
  {
   "cell_type": "code",
   "execution_count": 3,
   "metadata": {},
   "outputs": [],
   "source": [
    "input_path = \"raw_data/coarse\"\n",
    "annotation_out_path = \"raw_data/coarse/annotations/\"\n",
    "images_out_path = \"raw_data/coarse/images/\""
   ]
  },
  {
   "cell_type": "code",
   "execution_count": null,
   "metadata": {},
   "outputs": [
    {
     "name": "stdout",
     "output_type": "stream",
     "text": [
      " saving 12082 / 19998"
     ]
    }
   ],
   "source": [
    "populate_directory(input_dir=input_path, annotation_dir=annotation_out_path, image_dir=images_out_path)"
   ]
  },
  {
   "cell_type": "code",
   "execution_count": null,
   "metadata": {},
   "outputs": [],
   "source": []
  }
 ],
 "metadata": {
  "kernelspec": {
   "display_name": "Python 3",
   "language": "python",
   "name": "python3"
  },
  "language_info": {
   "codemirror_mode": {
    "name": "ipython",
    "version": 3
   },
   "file_extension": ".py",
   "mimetype": "text/x-python",
   "name": "python",
   "nbconvert_exporter": "python",
   "pygments_lexer": "ipython3",
   "version": "3.6.9"
  }
 },
 "nbformat": 4,
 "nbformat_minor": 4
}
