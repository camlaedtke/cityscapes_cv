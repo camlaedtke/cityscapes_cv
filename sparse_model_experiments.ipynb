{
 "cells": [
  {
   "cell_type": "code",
   "execution_count": null,
   "metadata": {
    "colab": {
     "base_uri": "https://localhost:8080/"
    },
    "executionInfo": {
     "elapsed": 27558,
     "status": "ok",
     "timestamp": 1619639042188,
     "user": {
      "displayName": "Cameron Laedtke",
      "photoUrl": "https://lh3.googleusercontent.com/a-/AOh14GjdHvTpQBUhnTxCbHhpkxuEaFh6HcxY6QIb9OVX=s64",
      "userId": "09150441049660052621"
     },
     "user_tz": 300
    },
    "id": "rnoPNjYdpCZI",
    "outputId": "67184b12-2d05-4b3b-c558-005cfde41c82"
   },
   "outputs": [],
   "source": [
    "import os\n",
    "import sys\n",
    "import time\n",
    "import random\n",
    "import numpy as np\n",
    "\n",
    "from matplotlib import colors\n",
    "import matplotlib.pyplot as plt\n",
    "from collections import namedtuple\n",
    "from IPython.display import clear_output\n",
    "\n",
    "import tensorflow as tf\n",
    "from tensorflow.keras import layers \n",
    "from tensorflow.keras.layers import *\n",
    "from tensorflow.keras.models import *\n",
    "from tensorflow.keras.losses import *\n",
    "from tensorflow.keras import backend as K\n",
    "from tensorflow.keras.activations import relu\n",
    "from tensorflow.keras.optimizers import SGD, Adam\n",
    "from tensorflow.keras.optimizers.schedules import PolynomialDecay\n",
    "from tensorflow.keras.utils import plot_model\n",
    "from tensorflow.keras.callbacks import EarlyStopping, ModelCheckpoint, LambdaCallback, CSVLogger\n",
    "from tensorflow.keras import mixed_precision\n",
    "\n",
    "\n",
    "from utils.plot_utils import plot_iou_trainId, plot_iou_catId\n",
    "from utils.data_utils import get_labels, parse_record, get_dataset_from_tfrecord\n",
    "from models.u2net_logits import U2NET\n",
    "from models.erfnet_logits import ERFNet\n",
    "\n",
    "physical_devices = tf.config.experimental.list_physical_devices(\"GPU\")\n",
    "tf.config.experimental.set_memory_growth(physical_devices[0], True)\n",
    "K.clear_session()\n",
    "\n",
    "def enable_amp():\n",
    "    mixed_precision.set_global_policy(\"mixed_float16\")\n",
    "\n",
    "print(\"Tensorflow version: \", tf.__version__)\n",
    "print(physical_devices,\"\\n\")\n",
    "enable_amp()"
   ]
  },
  {
   "cell_type": "code",
   "execution_count": null,
   "metadata": {
    "colab": {
     "base_uri": "https://localhost:8080/"
    },
    "executionInfo": {
     "elapsed": 325,
     "status": "ok",
     "timestamp": 1619634252834,
     "user": {
      "displayName": "Cameron Laedtke",
      "photoUrl": "https://lh3.googleusercontent.com/a-/AOh14GjdHvTpQBUhnTxCbHhpkxuEaFh6HcxY6QIb9OVX=s64",
      "userId": "09150441049660052621"
     },
     "user_tz": 300
    },
    "id": "v5B76noPk4m9",
    "outputId": "10b2a6a3-4247-4547-bb2b-845ec12c71ff"
   },
   "outputs": [],
   "source": [
    "!nvidia-smi -L"
   ]
  },
  {
   "cell_type": "code",
   "execution_count": null,
   "metadata": {
    "executionInfo": {
     "elapsed": 294,
     "status": "ok",
     "timestamp": 1619639043363,
     "user": {
      "displayName": "Cameron Laedtke",
      "photoUrl": "https://lh3.googleusercontent.com/a-/AOh14GjdHvTpQBUhnTxCbHhpkxuEaFh6HcxY6QIb9OVX=s64",
      "userId": "09150441049660052621"
     },
     "user_tz": 300
    },
    "id": "svfsgrJypgIP"
   },
   "outputs": [],
   "source": [
    "%config InlineBackend.figure_format = 'retina'\n",
    "plt.style.use('ggplot')\n",
    "plt.rc('xtick',labelsize=16)\n",
    "plt.rc('ytick',labelsize=16)"
   ]
  },
  {
   "cell_type": "code",
   "execution_count": null,
   "metadata": {
    "executionInfo": {
     "elapsed": 480,
     "status": "ok",
     "timestamp": 1619639043784,
     "user": {
      "displayName": "Cameron Laedtke",
      "photoUrl": "https://lh3.googleusercontent.com/a-/AOh14GjdHvTpQBUhnTxCbHhpkxuEaFh6HcxY6QIb9OVX=s64",
      "userId": "09150441049660052621"
     },
     "user_tz": 300
    },
    "id": "S6udDPj_p9ZM"
   },
   "outputs": [],
   "source": [
    "fine = True\n",
    "\n",
    "if fine:\n",
    "    train_tfrecord_dir = \"records/trainIds_train.record\"\n",
    "    test_tfrecord_dir = \"records/trainIds_val.record\"\n",
    "else:\n",
    "    train_tfrecord_dir = \"records/trainIds_train_extra.record\"\n",
    "\n",
    "img_height = 512 # 512\n",
    "img_width = 1024 # 1024\n",
    "\n",
    "n_classes = 20\n",
    "\n",
    "labels = get_labels()\n",
    "trainid2label = { label.trainId : label for label in labels }\n",
    "catid2label = { label.categoryId : label for label in labels }"
   ]
  },
  {
   "cell_type": "markdown",
   "metadata": {
    "id": "pT0SLiM32r5l"
   },
   "source": [
    "There's a bunch of data augmentation steps here. Random cropping, as well as random shifts in brightness, saturation, contrast, and hue. "
   ]
  },
  {
   "cell_type": "code",
   "execution_count": null,
   "metadata": {
    "colab": {
     "base_uri": "https://localhost:8080/"
    },
    "executionInfo": {
     "elapsed": 751,
     "status": "ok",
     "timestamp": 1619639044489,
     "user": {
      "displayName": "Cameron Laedtke",
      "photoUrl": "https://lh3.googleusercontent.com/a-/AOh14GjdHvTpQBUhnTxCbHhpkxuEaFh6HcxY6QIb9OVX=s64",
      "userId": "09150441049660052621"
     },
     "user_tz": 300
    },
    "id": "DSjxayZXMq0X",
    "outputId": "6467b3f5-a752-4eec-9541-8bcfad813edf"
   },
   "outputs": [],
   "source": [
    "np.array([0.5, 0.5625, 0.625, 0.6875, 0.75, 0.8125, 0.875, 0.9375, 1.0]) * 1024"
   ]
  },
  {
   "cell_type": "code",
   "execution_count": null,
   "metadata": {
    "executionInfo": {
     "elapsed": 942,
     "status": "ok",
     "timestamp": 1619639044853,
     "user": {
      "displayName": "Cameron Laedtke",
      "photoUrl": "https://lh3.googleusercontent.com/a-/AOh14GjdHvTpQBUhnTxCbHhpkxuEaFh6HcxY6QIb9OVX=s64",
      "userId": "09150441049660052621"
     },
     "user_tz": 300
    },
    "id": "npO-xrs8qM9Z"
   },
   "outputs": [],
   "source": [
    "MEAN = np.array([0.485, 0.456, 0.406])\n",
    "STD = np.array([0.229, 0.224, 0.225])\n",
    "\n",
    "\n",
    "@tf.function\n",
    "def random_crop(image, mask):\n",
    "    \"\"\"\n",
    "    Inputs: full resolution image and mask\n",
    "    A scale between 0.5 and 1.0 is randomly chosen. \n",
    "    Then, we multiply original height and width by the scale, \n",
    "    and randomly crop to the scaled height and width.\n",
    "    \"\"\"\n",
    "    scales = tf.convert_to_tensor(np.array(\n",
    "        [0.25, 0.3125, 0.375, 0.4375, 0.5, 0.5625, 0.625, 0.6875, 0.75, 0.8125, 0.875, 0.9375, 1.0]))\n",
    "    scale = scales[tf.random.uniform(shape=[], minval=0, maxval=13, dtype=tf.int32)]\n",
    "    scale = tf.cast(scale, tf.float32)\n",
    "    \n",
    "    shape = tf.cast(tf.shape(image), tf.float32)\n",
    "    h = tf.cast(shape[0] * scale, tf.int32)\n",
    "    w = tf.cast(shape[1] * scale, tf.int32)\n",
    "    combined_tensor = tf.concat([image, mask], axis=2)\n",
    "    combined_tensor = tf.image.random_crop(combined_tensor, size=[h, w, 4])\n",
    "    return combined_tensor[:,:,0:3], combined_tensor[:,:,-1]\n",
    "\n",
    "@tf.function\n",
    "def mask_to_categorical(image, mask):\n",
    "    mask = tf.squeeze(mask)\n",
    "    # mask = tf.one_hot(tf.cast(mask, tf.int32), n_classes)\n",
    "    # mask = tf.cast(mask, tf.float32)\n",
    "    mask = tf.cast(mask, tf.int32)\n",
    "    return image, mask\n",
    "\n",
    "\n",
    "@tf.function\n",
    "def normalize(image, mask):\n",
    "    image = image / 255.0\n",
    "    image = image - MEAN\n",
    "    image = image / STD\n",
    "    return image, mask\n",
    "\n",
    "\n",
    "@tf.function\n",
    "def load_image_train(input_image, input_mask):\n",
    "    \n",
    "    image = tf.cast(input_image, tf.uint8)\n",
    "    mask = tf.cast(input_mask, tf.uint8)\n",
    "    \n",
    "    if tf.random.uniform(()) > 0.5:\n",
    "        image = tf.image.flip_left_right(image)\n",
    "        mask = tf.image.flip_left_right(mask)\n",
    "         \n",
    "    # if tf.random.uniform(()) > 0.5:\n",
    "    #     image, mask = random_crop(image, mask)\n",
    "    #     mask = tf.expand_dims(mask, axis=-1)\n",
    "    \n",
    "    image = tf.image.resize(image, (img_height, img_width))\n",
    "    mask = tf.image.resize(mask, (img_height, img_width))\n",
    "    \n",
    "    image, mask = normalize(tf.cast(image, tf.float32), mask)\n",
    "    \n",
    "    if tf.random.uniform(()) > 0.5:\n",
    "        image = tf.image.random_brightness(image, 0.05)\n",
    "        image = tf.image.random_saturation(image, 0.6, 1.6)\n",
    "        image = tf.image.random_contrast(image, 0.7, 1.3)\n",
    "        image = tf.image.random_hue(image, 0.05)\n",
    "    \n",
    "    image, mask = mask_to_categorical(image, mask)\n",
    "    mask = tf.squeeze(mask)\n",
    "\n",
    "    return image, mask\n",
    "\n",
    "\n",
    "def load_image_test(input_image, input_mask):\n",
    "    image = tf.image.resize(input_image, (img_height, img_width))\n",
    "    mask = tf.image.resize(input_mask, (img_height, img_width))\n",
    "    \n",
    "    image, mask = normalize(tf.cast(image, tf.float32), mask)\n",
    "    image, mask = mask_to_categorical(image, mask)\n",
    "    mask = tf.squeeze(mask)\n",
    "    return image, mask\n",
    "\n",
    "\n",
    "def load_image_eval(input_image, input_mask):\n",
    "    image = tf.image.resize(input_image, (img_height, img_width))\n",
    "    \n",
    "    image, mask = normalize(tf.cast(image, tf.float32), input_mask)\n",
    "    image, mask = mask_to_categorical(image, mask)\n",
    "    mask = tf.squeeze(mask)\n",
    "    return image, mask"
   ]
  },
  {
   "cell_type": "code",
   "execution_count": null,
   "metadata": {
    "executionInfo": {
     "elapsed": 997,
     "status": "ok",
     "timestamp": 1619639045100,
     "user": {
      "displayName": "Cameron Laedtke",
      "photoUrl": "https://lh3.googleusercontent.com/a-/AOh14GjdHvTpQBUhnTxCbHhpkxuEaFh6HcxY6QIb9OVX=s64",
      "userId": "09150441049660052621"
     },
     "user_tz": 300
    },
    "id": "elJmNeehqO1o"
   },
   "outputs": [],
   "source": [
    "if fine:\n",
    "    TRAIN_LENGTH = 2975\n",
    "    TEST_LENGTH = 500\n",
    "else:\n",
    "    TRAIN_LENGTH = 18000\n",
    "    TEST_LENGTH = 1998\n",
    "\n",
    "BATCH_SIZE = 8\n",
    "BUFFER_SIZE = 300"
   ]
  },
  {
   "cell_type": "code",
   "execution_count": null,
   "metadata": {
    "executionInfo": {
     "elapsed": 3941,
     "status": "ok",
     "timestamp": 1619639048214,
     "user": {
      "displayName": "Cameron Laedtke",
      "photoUrl": "https://lh3.googleusercontent.com/a-/AOh14GjdHvTpQBUhnTxCbHhpkxuEaFh6HcxY6QIb9OVX=s64",
      "userId": "09150441049660052621"
     },
     "user_tz": 300
    },
    "id": "D0RKzVS0qSY-"
   },
   "outputs": [],
   "source": [
    "if fine:\n",
    "    train_ds = get_dataset_from_tfrecord(train_tfrecord_dir)\n",
    "    test_ds = get_dataset_from_tfrecord(test_tfrecord_dir)\n",
    "else:\n",
    "    all_ds = get_dataset_from_tfrecord(train_tfrecord_dir)\n",
    "    train_ds = all_ds.skip(TEST_LENGTH)\n",
    "    test_ds = all_ds.take(TEST_LENGTH) "
   ]
  },
  {
   "cell_type": "code",
   "execution_count": null,
   "metadata": {
    "executionInfo": {
     "elapsed": 3503,
     "status": "ok",
     "timestamp": 1619639048549,
     "user": {
      "displayName": "Cameron Laedtke",
      "photoUrl": "https://lh3.googleusercontent.com/a-/AOh14GjdHvTpQBUhnTxCbHhpkxuEaFh6HcxY6QIb9OVX=s64",
      "userId": "09150441049660052621"
     },
     "user_tz": 300
    },
    "id": "6S5N2vroqSbd"
   },
   "outputs": [],
   "source": [
    "# Preprocessing: random crop the images and masks, flip them\n",
    "train = train_ds.map(load_image_train, num_parallel_calls=tf.data.experimental.AUTOTUNE)\n",
    "test = test_ds.map(load_image_test)\n",
    "eval = test_ds.map(load_image_eval)"
   ]
  },
  {
   "cell_type": "code",
   "execution_count": null,
   "metadata": {
    "executionInfo": {
     "elapsed": 3281,
     "status": "ok",
     "timestamp": 1619639048550,
     "user": {
      "displayName": "Cameron Laedtke",
      "photoUrl": "https://lh3.googleusercontent.com/a-/AOh14GjdHvTpQBUhnTxCbHhpkxuEaFh6HcxY6QIb9OVX=s64",
      "userId": "09150441049660052621"
     },
     "user_tz": 300
    },
    "id": "qbWJiqtbqSeO"
   },
   "outputs": [],
   "source": [
    "train_dataset = train.shuffle(BUFFER_SIZE).batch(BATCH_SIZE).repeat()\n",
    "train_dataset = train_dataset.prefetch(buffer_size=tf.data.experimental.AUTOTUNE)\n",
    "test_dataset = test.batch(BATCH_SIZE)"
   ]
  },
  {
   "cell_type": "code",
   "execution_count": null,
   "metadata": {
    "executionInfo": {
     "elapsed": 2488,
     "status": "ok",
     "timestamp": 1619639048550,
     "user": {
      "displayName": "Cameron Laedtke",
      "photoUrl": "https://lh3.googleusercontent.com/a-/AOh14GjdHvTpQBUhnTxCbHhpkxuEaFh6HcxY6QIb9OVX=s64",
      "userId": "09150441049660052621"
     },
     "user_tz": 300
    },
    "id": "f4B0yuswqSg0"
   },
   "outputs": [],
   "source": [
    "def label_to_rgb(mask):\n",
    "    h = mask.shape[0]\n",
    "    w = mask.shape[1]\n",
    "    mask_rgb = np.zeros((h, w, 3), dtype=np.uint8)\n",
    "    for val, key in trainid2label.items():\n",
    "        indices = mask == val\n",
    "        mask_rgb[indices.squeeze()] = key.color \n",
    "    return mask_rgb\n",
    "\n",
    "\n",
    "\n",
    "def display(display_list, title=True):\n",
    "    plt.figure(figsize=(15, 5))\n",
    "    if title:\n",
    "        title = ['Input Image', 'True Mask', 'Predicted Mask']\n",
    "    for i in range(len(display_list)):\n",
    "        plt.subplot(1, len(display_list), i+1)\n",
    "        if title:\n",
    "            plt.title(title[i])\n",
    "        plt.imshow(tf.keras.preprocessing.image.array_to_img(display_list[i]))\n",
    "        plt.axis('off')\n",
    "    plt.tight_layout()\n",
    "    plt.show()"
   ]
  },
  {
   "cell_type": "code",
   "execution_count": null,
   "metadata": {
    "colab": {
     "base_uri": "https://localhost:8080/",
     "height": 310
    },
    "executionInfo": {
     "elapsed": 10817,
     "status": "ok",
     "timestamp": 1619639057024,
     "user": {
      "displayName": "Cameron Laedtke",
      "photoUrl": "https://lh3.googleusercontent.com/a-/AOh14GjdHvTpQBUhnTxCbHhpkxuEaFh6HcxY6QIb9OVX=s64",
      "userId": "09150441049660052621"
     },
     "user_tz": 300
    },
    "id": "ojfo-GdYhocd",
    "outputId": "631d0c38-dd8c-4ba6-f304-d6f76f8aabb2"
   },
   "outputs": [],
   "source": [
    "for image, mask in test.take(27): # c: 12 f: 16, 21, 27\n",
    "    sample_image, sample_mask = image, mask\n",
    "\n",
    "# sample_mask = tf.argmax(sample_mask, axis=-1)\n",
    "sample_mask = sample_mask[..., tf.newaxis]\n",
    "sample_mask = label_to_rgb(sample_mask.numpy())\n",
    "display([sample_image, sample_mask])"
   ]
  },
  {
   "cell_type": "markdown",
   "metadata": {
    "id": "fenP8l6FwP0i"
   },
   "source": [
    "## Model\n",
    "\n"
   ]
  },
  {
   "cell_type": "code",
   "execution_count": null,
   "metadata": {
    "executionInfo": {
     "elapsed": 10065,
     "status": "ok",
     "timestamp": 1619639057025,
     "user": {
      "displayName": "Cameron Laedtke",
      "photoUrl": "https://lh3.googleusercontent.com/a-/AOh14GjdHvTpQBUhnTxCbHhpkxuEaFh6HcxY6QIb9OVX=s64",
      "userId": "09150441049660052621"
     },
     "user_tz": 300
    },
    "id": "rW1VSbuHqSlR"
   },
   "outputs": [],
   "source": [
    "def iou_coef(y_true, y_pred):\n",
    "    smooth = 1\n",
    "    iou_total = 0\n",
    "    for i in range(1, n_classes):\n",
    "        tp = tf.math.reduce_sum(y_pred[:,:,:,i] * y_true[:,:,:,i], axis=(1,2))\n",
    "        fn = tf.math.reduce_sum(y_true[:,:,:,i] * (1 - y_pred[:,:,:,i]), axis=(1,2)) \n",
    "        fp = tf.math.reduce_sum(y_pred[:,:,:,i] * (1 - y_true[:,:,:,i]), axis=(1,2)) \n",
    "        iou = tf.math.reduce_mean(tf.math.divide_no_nan(tp+smooth, tp+fn+fp+smooth), axis=0)\n",
    "        iou_total += iou\n",
    "    iou_macro = iou_total / (n_classes - 1)\n",
    "    return iou_macro\n",
    "\n",
    "\n",
    "def iou_coef_sparse(y_true, y_pred):\n",
    "    y_true = tf.one_hot(tf.cast(y_true, tf.int32), n_classes)\n",
    "    y_pred = tf.nn.softmax(y_pred, axis=-1)\n",
    "    smooth = 1\n",
    "    iou_total = 0\n",
    "    for i in range(1, n_classes):\n",
    "        tp = tf.math.reduce_sum(y_pred[:,:,:,i] * y_true[:,:,:,i], axis=(1,2))\n",
    "        fn = tf.math.reduce_sum(y_true[:,:,:,i] * (1 - y_pred[:,:,:,i]), axis=(1,2)) \n",
    "        fp = tf.math.reduce_sum(y_pred[:,:,:,i] * (1 - y_true[:,:,:,i]), axis=(1,2)) \n",
    "        iou = tf.math.reduce_mean(tf.math.divide_no_nan(tp+smooth, tp+fn+fp+smooth), axis=0)\n",
    "        iou_total += iou\n",
    "    iou_macro = iou_total / (n_classes - 1)\n",
    "    return iou_macro\n",
    "\n",
    "\n",
    "def iou_micro_coef(y_true, y_pred):\n",
    "    \"\"\"Gets the global IoU score (averaged over the batch) over all the classes at once\"\"\"\n",
    "    smooth = 1.0\n",
    "    A = y_true[:,:,:,1:]\n",
    "    B = y_pred[:,:,:,1:]\n",
    "    intersection = tf.math.reduce_sum(A * B, axis=(1,2,3))\n",
    "    union = tf.math.reduce_sum(A, axis=(1,2,3)) + tf.math.reduce_sum(B, axis=(1,2,3)) - intersection\n",
    "    iou = tf.math.reduce_mean(tf.math.divide_no_nan(intersection + smooth, union + smooth), axis=0)\n",
    "    return iou"
   ]
  },
  {
   "cell_type": "code",
   "execution_count": null,
   "metadata": {},
   "outputs": [],
   "source": [
    "c_weights = [0.0,    2.602,  6.707,  3.522,  9.877, \n",
    "             9.685,  9.398,  10.288, 9.969,  4.336, \n",
    "             9.454,  7.617,  9.405,  10.359, 6.373, \n",
    "             10.231, 10.262, 10.264, 10.394, 10.094] \n",
    "\n",
    "\n",
    "cce_loss = tf.keras.losses.CategoricalCrossentropy()\n",
    "\n",
    "\n",
    "def cce_iou_micro_loss(y_true, y_pred):\n",
    "    return (cce_loss(y_true, y_pred) - iou_micro_coef(y_true, y_pred)) + 1\n",
    "\n",
    "\n",
    "def weighted_cross_entropy_loss(y_true_labels, y_pred_logits):\n",
    "    # y_true_labels: (batch_size, img_h, img_w)\n",
    "    # y_pred_logits: (batch_size, img_h, img_w, num_classes)\n",
    "    losses = tf.nn.sparse_softmax_cross_entropy_with_logits(labels=y_true_labels, logits=y_pred_logits)  # (batch_size, img_h, img_w)\n",
    "    weights = tf.gather(c_weights, y_true_labels)  # (batch_size, img_h, img_w)\n",
    "    losses = tf.multiply(losses, weights)\n",
    "    return tf.reduce_mean(losses)"
   ]
  },
  {
   "cell_type": "code",
   "execution_count": null,
   "metadata": {
    "executionInfo": {
     "elapsed": 17172,
     "status": "ok",
     "timestamp": 1619639075357,
     "user": {
      "displayName": "Cameron Laedtke",
      "photoUrl": "https://lh3.googleusercontent.com/a-/AOh14GjdHvTpQBUhnTxCbHhpkxuEaFh6HcxY6QIb9OVX=s64",
      "userId": "09150441049660052621"
     },
     "user_tz": 300
    },
    "id": "Zmrrwuyg35n1"
   },
   "outputs": [],
   "source": [
    "K.clear_session()\n",
    "# model = U2NET(input_height=img_height, input_width=img_width, n_classes=n_classes)\n",
    "# model = HRNet(input_height=img_height, input_width=img_width, n_classes=n_classes, W=40)\n",
    "model = ERFNet(input_height=img_height, input_width=img_width, n_classes=n_classes)"
   ]
  },
  {
   "cell_type": "code",
   "execution_count": null,
   "metadata": {
    "colab": {
     "base_uri": "https://localhost:8080/"
    },
    "executionInfo": {
     "elapsed": 17007,
     "status": "ok",
     "timestamp": 1619639075358,
     "user": {
      "displayName": "Cameron Laedtke",
      "photoUrl": "https://lh3.googleusercontent.com/a-/AOh14GjdHvTpQBUhnTxCbHhpkxuEaFh6HcxY6QIb9OVX=s64",
      "userId": "09150441049660052621"
     },
     "user_tz": 300
    },
    "id": "vd5oPt5Rq98R",
    "outputId": "aae6ae55-e973-4938-a750-12189243e6b5"
   },
   "outputs": [],
   "source": [
    "# plot_model(model, show_shapes=True, dpi=64)\n",
    "model.summary()"
   ]
  },
  {
   "cell_type": "code",
   "execution_count": null,
   "metadata": {
    "executionInfo": {
     "elapsed": 15292,
     "status": "ok",
     "timestamp": 1619639075358,
     "user": {
      "displayName": "Cameron Laedtke",
      "photoUrl": "https://lh3.googleusercontent.com/a-/AOh14GjdHvTpQBUhnTxCbHhpkxuEaFh6HcxY6QIb9OVX=s64",
      "userId": "09150441049660052621"
     },
     "user_tz": 300
    },
    "id": "Jps0zxRGq9_n"
   },
   "outputs": [],
   "source": [
    "def create_mask(pred_mask):\n",
    "    pred_mask = tf.squeeze(pred_mask)\n",
    "    pred_mask = tf.argmax(pred_mask, axis=-1)\n",
    "    pred_mask = pred_mask[..., tf.newaxis]\n",
    "    pred_mask = label_to_rgb(pred_mask.numpy())\n",
    "    return pred_mask\n",
    "\n",
    "\n",
    "def show_predictions():\n",
    "    pred_mask = model.predict(sample_image[tf.newaxis, ...])\n",
    "    if \"U2Net\" in model.name:\n",
    "        pred_mask = pred_mask[0]\n",
    "    display([sample_image, sample_mask, create_mask(pred_mask)])\n",
    "\n",
    "\n",
    "class DisplayCallback(tf.keras.callbacks.Callback):\n",
    "    def on_epoch_end(self, epoch, logs=None):\n",
    "        clear_output(wait=True)\n",
    "        show_predictions()\n",
    "        print ('\\nSample Prediction after epoch {}\\n'.format(epoch+1))"
   ]
  },
  {
   "cell_type": "code",
   "execution_count": null,
   "metadata": {
    "executionInfo": {
     "elapsed": 15113,
     "status": "ok",
     "timestamp": 1619639075358,
     "user": {
      "displayName": "Cameron Laedtke",
      "photoUrl": "https://lh3.googleusercontent.com/a-/AOh14GjdHvTpQBUhnTxCbHhpkxuEaFh6HcxY6QIb9OVX=s64",
      "userId": "09150441049660052621"
     },
     "user_tz": 300
    },
    "id": "KBaKUGayrJas"
   },
   "outputs": [],
   "source": [
    "if fine:\n",
    "    MODEL_PATH = \"weights/\"+model.name+\"_512x1024.h5\"\n",
    "else:\n",
    "    MODEL_PATH = \"weights/\"+model.name+\"_coarse_512x1024.h5\"\n",
    "\n",
    "# model.load_weights(MODEL_PATH)\n",
    "# model.load_weights(\"weights/U2Net.h5\")"
   ]
  },
  {
   "cell_type": "code",
   "execution_count": null,
   "metadata": {
    "colab": {
     "base_uri": "https://localhost:8080/",
     "height": 221
    },
    "executionInfo": {
     "elapsed": 21692,
     "status": "ok",
     "timestamp": 1619639082384,
     "user": {
      "displayName": "Cameron Laedtke",
      "photoUrl": "https://lh3.googleusercontent.com/a-/AOh14GjdHvTpQBUhnTxCbHhpkxuEaFh6HcxY6QIb9OVX=s64",
      "userId": "09150441049660052621"
     },
     "user_tz": 300
    },
    "id": "SsAnw6vgq-CK",
    "outputId": "63b562ee-9c5f-471d-a063-a76991d807d8"
   },
   "outputs": [],
   "source": [
    "show_predictions()"
   ]
  },
  {
   "cell_type": "code",
   "execution_count": null,
   "metadata": {
    "executionInfo": {
     "elapsed": 21115,
     "status": "ok",
     "timestamp": 1619639082384,
     "user": {
      "displayName": "Cameron Laedtke",
      "photoUrl": "https://lh3.googleusercontent.com/a-/AOh14GjdHvTpQBUhnTxCbHhpkxuEaFh6HcxY6QIb9OVX=s64",
      "userId": "09150441049660052621"
     },
     "user_tz": 300
    },
    "id": "SY7zyzR0MrwJ"
   },
   "outputs": [],
   "source": [
    "if fine:\n",
    "    EPOCHS = 100\n",
    "else:\n",
    "    EPOCHS = 40"
   ]
  },
  {
   "cell_type": "code",
   "execution_count": null,
   "metadata": {
    "executionInfo": {
     "elapsed": 486,
     "status": "ok",
     "timestamp": 1619639087683,
     "user": {
      "displayName": "Cameron Laedtke",
      "photoUrl": "https://lh3.googleusercontent.com/a-/AOh14GjdHvTpQBUhnTxCbHhpkxuEaFh6HcxY6QIb9OVX=s64",
      "userId": "09150441049660052621"
     },
     "user_tz": 300
    },
    "id": "VKjdtAYEMxzL"
   },
   "outputs": [],
   "source": [
    "STEPS_PER_EPOCH = TRAIN_LENGTH // BATCH_SIZE \n",
    "VALIDATION_STEPS = TEST_LENGTH // BATCH_SIZE \n",
    "TOTAL_UPDATE_STEPS = int(EPOCHS * STEPS_PER_EPOCH)"
   ]
  },
  {
   "cell_type": "code",
   "execution_count": null,
   "metadata": {
    "executionInfo": {
     "elapsed": 734,
     "status": "ok",
     "timestamp": 1619639088191,
     "user": {
      "displayName": "Cameron Laedtke",
      "photoUrl": "https://lh3.googleusercontent.com/a-/AOh14GjdHvTpQBUhnTxCbHhpkxuEaFh6HcxY6QIb9OVX=s64",
      "userId": "09150441049660052621"
     },
     "user_tz": 300
    },
    "id": "cJGzmT24-TmK"
   },
   "outputs": [],
   "source": [
    "learning_rate_fn = PolynomialDecay(initial_learning_rate = 8e-4, decay_steps = TOTAL_UPDATE_STEPS, \n",
    "                                   end_learning_rate = 1e-8, power = 0.9)\n",
    "\n",
    "model.compile(\n",
    "    optimizer = Adam(learning_rate=learning_rate_fn, decay=0.0005), \n",
    "    loss = weighted_cross_entropy_loss, \n",
    "    metrics = ['accuracy', iou_coef_sparse]\n",
    ")"
   ]
  },
  {
   "cell_type": "code",
   "execution_count": null,
   "metadata": {
    "executionInfo": {
     "elapsed": 765,
     "status": "ok",
     "timestamp": 1619639088428,
     "user": {
      "displayName": "Cameron Laedtke",
      "photoUrl": "https://lh3.googleusercontent.com/a-/AOh14GjdHvTpQBUhnTxCbHhpkxuEaFh6HcxY6QIb9OVX=s64",
      "userId": "09150441049660052621"
     },
     "user_tz": 300
    },
    "id": "Klh5zvBbMtMN"
   },
   "outputs": [],
   "source": [
    "callbacks = [\n",
    "    DisplayCallback(),\n",
    "    ModelCheckpoint(MODEL_PATH, monitor='val_iou_coef_sparse', verbose=0, save_best_only=True, save_weights_only=True, mode='max'),\n",
    "]"
   ]
  },
  {
   "cell_type": "code",
   "execution_count": null,
   "metadata": {
    "colab": {
     "base_uri": "https://localhost:8080/"
    },
    "id": "24Z5BSbP69bv",
    "outputId": "d5de05fc-7f9b-45a9-ad03-7a71430bf517"
   },
   "outputs": [],
   "source": [
    "results = model.fit(\n",
    "    train_dataset,\n",
    "    steps_per_epoch=STEPS_PER_EPOCH,\n",
    "    validation_steps=VALIDATION_STEPS,\n",
    "    epochs = (EPOCHS*SUBSPLITS),\n",
    "    validation_data = test_dataset,\n",
    "    callbacks = callbacks, \n",
    "    verbose = 1  \n",
    ")"
   ]
  },
  {
   "cell_type": "code",
   "execution_count": null,
   "metadata": {
    "id": "lNTMGfwL1f_I"
   },
   "outputs": [],
   "source": [
    "results = model.history"
   ]
  },
  {
   "cell_type": "code",
   "execution_count": null,
   "metadata": {
    "id": "UX1h0LtBM3DR"
   },
   "outputs": [],
   "source": [
    "def plot_history(results, model):\n",
    "         \n",
    "    plt.figure(figsize=(16,7))\n",
    "    plt.subplot(1,3,1)\n",
    "    if \"U2Net\" in model.name:\n",
    "        plt.plot(results.history['d0_loss'], 'r', label='Training loss')\n",
    "        plt.plot(results.history['val_d0_loss'], 'b', label='Validation loss')\n",
    "    else:\n",
    "        plt.plot(results.history['loss'], 'r', label='Training loss')\n",
    "        plt.plot(results.history['val_loss'], 'b', label='Validation loss')\n",
    "    plt.title(\"Loss: \"+model.name, fontsize=16)\n",
    "    plt.xlabel('Epoch', fontsize=16)\n",
    "    plt.legend(prop={'size': 14})\n",
    "\n",
    "    plt.subplot(1,3,2)\n",
    "    if \"U2Net\" in model.name:\n",
    "        plt.plot(results.history['d0_accuracy'], 'r', label='Training accuracy')\n",
    "        plt.plot(results.history['val_d0_accuracy'], 'b', label='Validation accuracy')\n",
    "    else:\n",
    "        plt.plot(results.history['accuracy'], 'r', label='Training accuracy')\n",
    "        plt.plot(results.history['val_accuracy'], 'b', label='Validation accuracy')\n",
    "    plt.title('Accuracy: '+model.name, fontsize=16)\n",
    "    plt.xlabel('Epoch', fontsize=16)\n",
    "    plt.legend(prop={'size': 14})\n",
    "\n",
    "    plt.subplot(1,3,3)\n",
    "    if \"U2Net\" in model.name:\n",
    "        plt.plot(results.history['d0_iou_coef'], 'r', label='IoU coefficient')\n",
    "        plt.plot(results.history['val_d0_iou_coef'], 'b', label='Validation IoU coefficient')\n",
    "    else:\n",
    "        plt.plot(results.history['iou_coef'], 'r', label='IoU coefficient')\n",
    "        plt.plot(results.history['val_iou_coef'], 'b', label='Validation IoU coefficient')\n",
    "    plt.title('IoU Coefficient: '+model.name, fontsize=16)\n",
    "    plt.xlabel('Epoch', fontsize=16)\n",
    "    plt.legend(prop={'size': 14})\n",
    "\n",
    "    if fine:\n",
    "        plt.savefig(DATA_ROOT+\"plots/\"+model.name+\"_learning_curves.png\")\n",
    "    else:\n",
    "        plt.savefig(DATA_ROOT+\"plots/\"+model.name+\"_learning_curves_coarse.png\")\n",
    "    plt.show()"
   ]
  },
  {
   "cell_type": "code",
   "execution_count": null,
   "metadata": {
    "colab": {
     "base_uri": "https://localhost:8080/",
     "height": 471
    },
    "executionInfo": {
     "elapsed": 2843,
     "status": "ok",
     "timestamp": 1618812959013,
     "user": {
      "displayName": "Cameron Laedtke",
      "photoUrl": "https://lh3.googleusercontent.com/a-/AOh14GjdHvTpQBUhnTxCbHhpkxuEaFh6HcxY6QIb9OVX=s64",
      "userId": "09150441049660052621"
     },
     "user_tz": 300
    },
    "id": "DhLv0WBrNEdg",
    "outputId": "2be74bd6-6e74-457f-9b28-b99855d977fd"
   },
   "outputs": [],
   "source": [
    "plot_history(results, model)"
   ]
  },
  {
   "cell_type": "markdown",
   "metadata": {
    "id": "hrUQDcbYOhqi"
   },
   "source": [
    "### Evaluation\n",
    "\n",
    "For evaluation IoU scores, we need to calculate the *hard* IoU score as opposed to the *soft* IoU score. We used soft IoU function for training loss. Also, we want to resize everything to the original resolution. \n",
    "\n",
    "See this [link](https://www.jeremyjordan.me/semantic-segmentation/)"
   ]
  },
  {
   "cell_type": "code",
   "execution_count": null,
   "metadata": {
    "id": "tClZKKAF7RX2"
   },
   "outputs": [],
   "source": [
    "def evaluate_iou(model, dataset, n_samples):\n",
    "    \n",
    "    iou_scores = np.zeros((n_samples,))\n",
    "    inf_times = np.zeros((n_samples, ))\n",
    "    miou_op =  tf.keras.metrics.MeanIoU(num_classes=n_classes-1)\n",
    "    \n",
    "    for idx, (image, mask) in enumerate(dataset):\n",
    "        print(\"\\r Predicting {} \\ {} \".format(idx+1, n_samples), end='')\n",
    "        \n",
    "        X = np.expand_dims(image.numpy(), axis=0)\n",
    "        y_true = np.expand_dims(mask.numpy(), axis=0)\n",
    "        \n",
    "        t_start = time.time()\n",
    "        y_pred = model.predict(X)\n",
    "        t_end = time.time()\n",
    "        t_inf = t_end-t_start\n",
    "        \n",
    "        inf_times[idx] = t_inf\n",
    "        \n",
    "        if \"u2net\" in model.name:\n",
    "            y_pred = y_pred[0]\n",
    "            \n",
    "        y_pred = tf.image.resize(y_pred, (1024, 2048))\n",
    "        threshold = tf.math.reduce_max(y_pred, axis=-1, keepdims=True)\n",
    "        y_pred = tf.logical_and(y_pred >= threshold, tf.abs(y_pred) > 1e-12)\n",
    "        \n",
    "        y_pred = tf.cast(tf.squeeze(y_pred, axis=0), tf.int32)\n",
    "        y_true = tf.cast(tf.squeeze(y_true, axis=0), tf.int32)\n",
    "        \n",
    "        y_true = tf.argmax(y_true[:,:,1:], axis=-1)\n",
    "        y_pred = tf.argmax(y_pred[:,:,1:], axis=-1)\n",
    "                \n",
    "        miou_op.update_state(y_true, y_pred)\n",
    "        iou = miou_op.result().numpy()\n",
    "        iou_scores[idx] = iou\n",
    "        \n",
    "        if idx == (n_samples-1):\n",
    "            break\n",
    "    \n",
    "    print(\"Average inference time: {:.2f}s\".format(np.mean(inf_times)))\n",
    "            \n",
    "    return iou_scores, miou_op"
   ]
  },
  {
   "cell_type": "code",
   "execution_count": null,
   "metadata": {
    "colab": {
     "base_uri": "https://localhost:8080/",
     "height": 375
    },
    "executionInfo": {
     "elapsed": 6007,
     "status": "error",
     "timestamp": 1618812975566,
     "user": {
      "displayName": "Cameron Laedtke",
      "photoUrl": "https://lh3.googleusercontent.com/a-/AOh14GjdHvTpQBUhnTxCbHhpkxuEaFh6HcxY6QIb9OVX=s64",
      "userId": "09150441049660052621"
     },
     "user_tz": 300
    },
    "id": "wn-WV8EINEit",
    "outputId": "d64951f6-d67f-4270-e28a-2a569a6ea0ce"
   },
   "outputs": [],
   "source": [
    "iou_scores, miou_op = evaluate_iou(model=model, dataset=eval, n_samples=TEST_LENGTH)\n",
    "iou_mean = np.mean(iou_scores)"
   ]
  },
  {
   "cell_type": "code",
   "execution_count": null,
   "metadata": {
    "colab": {
     "base_uri": "https://localhost:8080/"
    },
    "executionInfo": {
     "elapsed": 546,
     "status": "ok",
     "timestamp": 1618671631688,
     "user": {
      "displayName": "Cameron Laedtke",
      "photoUrl": "https://lh3.googleusercontent.com/a-/AOh14GjdHvTpQBUhnTxCbHhpkxuEaFh6HcxY6QIb9OVX=s64",
      "userId": "09150441049660052621"
     },
     "user_tz": 300
    },
    "id": "M8PBTtMIYz_r",
    "outputId": "679d9c68-2663-40ef-f05b-5fad815cbf66"
   },
   "outputs": [],
   "source": [
    "union_int = np.sum(miou_op.get_weights()[0], axis=0)+np.sum(miou_op.get_weights()[0], axis=1)\n",
    "inters = np.diag(miou_op.get_weights()[0])\n",
    "ious = inters / (union_int-inters+1)"
   ]
  },
  {
   "cell_type": "code",
   "execution_count": null,
   "metadata": {
    "colab": {
     "base_uri": "https://localhost:8080/",
     "height": 641
    },
    "executionInfo": {
     "elapsed": 1372,
     "status": "ok",
     "timestamp": 1618671635635,
     "user": {
      "displayName": "Cameron Laedtke",
      "photoUrl": "https://lh3.googleusercontent.com/a-/AOh14GjdHvTpQBUhnTxCbHhpkxuEaFh6HcxY6QIb9OVX=s64",
      "userId": "09150441049660052621"
     },
     "user_tz": 300
    },
    "id": "CTaYLimJVJaW",
    "outputId": "26cb80e6-2edc-410f-ac6a-477033e6b11e"
   },
   "outputs": [],
   "source": [
    "plot_iou_trainId(\n",
    "    trainId_label_map=trainid2label,\n",
    "    catId_label_map=catId2label, \n",
    "    n_classes=n_classes, \n",
    "    iou_class=ious,\n",
    "    model=model, \n",
    "    iou_mean=iou_mean,\n",
    "    current_dir=DATA_ROOT\n",
    ")"
   ]
  },
  {
   "cell_type": "code",
   "execution_count": null,
   "metadata": {
    "id": "6JiHtIZBu02G"
   },
   "outputs": [],
   "source": [
    "def visualize_confusion_matrix(confusion, metric, label_classes, model):\n",
    "    plt.figure(figsize=(13,13))\n",
    "    plt.title(\"{} Confusion Matrix, with Mean IoU = {:.3f}\".format(model.name, metric), fontsize=22)\n",
    "    plt.imshow(confusion)\n",
    "    ax, fig = plt.gca(), plt.gcf()\n",
    "    plt.xticks(np.arange(len(label_classes)), label_classes)\n",
    "    plt.yticks(np.arange(len(label_classes)), label_classes)\n",
    "    # set horizontal alignment mode (left, right or center) and rotation mode(anchor or default)\n",
    "    plt.setp(ax.get_xticklabels(), rotation=-90, ha=\"center\", rotation_mode=\"default\")\n",
    "    # avoid top and bottom part of heatmap been cut\n",
    "    ax.set_xticks(np.arange(len(label_classes) + 1) - .5, minor=True)\n",
    "    ax.set_yticks(np.arange(len(label_classes) + 1) - .5, minor=True)\n",
    "    ax.tick_params(which=\"minor\", bottom=False, left=False)\n",
    "    ax.grid(False)\n",
    "    fig.tight_layout()\n",
    "    plt.show()"
   ]
  },
  {
   "cell_type": "code",
   "execution_count": null,
   "metadata": {
    "colab": {
     "base_uri": "https://localhost:8080/",
     "height": 946
    },
    "executionInfo": {
     "elapsed": 2566,
     "status": "ok",
     "timestamp": 1618671891719,
     "user": {
      "displayName": "Cameron Laedtke",
      "photoUrl": "https://lh3.googleusercontent.com/a-/AOh14GjdHvTpQBUhnTxCbHhpkxuEaFh6HcxY6QIb9OVX=s64",
      "userId": "09150441049660052621"
     },
     "user_tz": 300
    },
    "id": "obDoT80UXHt-",
    "outputId": "c8cc8484-6c10-4d3b-f30a-856781522d7b"
   },
   "outputs": [],
   "source": [
    "visualize_confusion_matrix(\n",
    "    confusion = miou_op.get_weights()[0] / np.sum(miou_op.get_weights()[0], axis=0), \n",
    "    metric = iou_mean, \n",
    "    label_classes = [trainid2label[i].name for i in range(1, n_classes)],\n",
    "    model = model\n",
    ")"
   ]
  },
  {
   "cell_type": "code",
   "execution_count": null,
   "metadata": {
    "id": "IzkPmaqMXJg5"
   },
   "outputs": [],
   "source": []
  }
 ],
 "metadata": {
  "accelerator": "GPU",
  "colab": {
   "collapsed_sections": [],
   "machine_shape": "hm",
   "name": "model_experiments.ipynb",
   "provenance": []
  },
  "kernelspec": {
   "display_name": "Python 3",
   "language": "python",
   "name": "python3"
  },
  "language_info": {
   "codemirror_mode": {
    "name": "ipython",
    "version": 3
   },
   "file_extension": ".py",
   "mimetype": "text/x-python",
   "name": "python",
   "nbconvert_exporter": "python",
   "pygments_lexer": "ipython3",
   "version": "3.7.7"
  }
 },
 "nbformat": 4,
 "nbformat_minor": 1
}
